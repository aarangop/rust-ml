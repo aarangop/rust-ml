{
 "cells": [
  {
   "cell_type": "markdown",
   "metadata": {},
   "source": [
    "# Single Hidden Layer classifier\n",
    "\n",
    "This notebook implements a single layer classifier using numpy. The classifier is trained with gradient descent and uses the cross entropy loss function. The model is evaluated on a test set and the accuracy is printed.\n",
    "\n",
    "We'll use the titanic dataset to classify between survivors and non-survivors."
   ]
  },
  {
   "cell_type": "markdown",
   "metadata": {},
   "source": [
    "## The Model\n",
    "\n",
    "As mentioned, we're going to implement a single layer classifier with one hidden layer and one output layer. The model's components are therefore an *input layer*, one *hidden layer*, and one *output layer*.\n",
    "\n",
    "### Input Layer\n",
    "\n",
    "As input, we expect a vector $X$ of size $(n_x, m)$, where $n_x$ is the number of input features. \n",
    "\n",
    "### Hidden Layer\n",
    "\n",
    "Our single hidden layer $A$ will be a 2D-vector $(n_h, 1)$, we'll start by using a ReLU function as an activation function, so\n",
    "$$\n",
    "g(Z) = \\sigma (Z)\n",
    "$$\n",
    "with \n",
    "$$\n",
    "Z = W \\cdot X + b\n",
    "$$\n",
    "\n",
    "Where $W$ is the weights' matrix, and has a dimensionality of $(n_h, n_x)$\n",
    "\n",
    "### Output Layer \n",
    "\n",
    "The output layer is made of a single node with a sigmoid function, and outputs either 0, or 1 (depending on the probability computed by the final sigmoid activation function).\n"
   ]
  },
  {
   "cell_type": "code",
   "execution_count": 1,
   "metadata": {},
   "outputs": [],
   "source": [
    "import numpy as np"
   ]
  },
  {
   "cell_type": "code",
   "execution_count": null,
   "metadata": {},
   "outputs": [],
   "source": [
    "def initialize_classifier(n_x, n_h):\n",
    "  W1 = np.random.randn(n_h, n_x)\n",
    "  b1 = np.zeros((1, 1))\n",
    "  W2 = np.random.randn(1, n_h)\n",
    "  b1 = np.zeros((1, 1))\n",
    "  parameters = {\n",
    "    \"W1\": W1,\n",
    "    \"b1\": b1,\n",
    "    \"W2\": W2,\n",
    "    \"b2\": b2\n",
    "  }\n",
    "  return W\n",
    "\n"
   ]
  },
  {
   "cell_type": "markdown",
   "metadata": {},
   "source": []
  }
 ],
 "metadata": {
  "kernelspec": {
   "display_name": ".venv",
   "language": "python",
   "name": "python3"
  },
  "language_info": {
   "codemirror_mode": {
    "name": "ipython",
    "version": 3
   },
   "file_extension": ".py",
   "mimetype": "text/x-python",
   "name": "python",
   "nbconvert_exporter": "python",
   "pygments_lexer": "ipython3",
   "version": "3.12.4"
  }
 },
 "nbformat": 4,
 "nbformat_minor": 2
}
