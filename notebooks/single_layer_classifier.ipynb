{
 "cells": [
  {
   "cell_type": "markdown",
   "id": "1a063a78",
   "metadata": {},
   "source": [
    "# Single Hidden Layer Neural Network\n",
    "\n",
    "This notebook implements a simple single hidden layer neural network from scratch using NumPy."
   ]
  },
  {
   "cell_type": "code",
   "execution_count": 16,
   "id": "7da842b7",
   "metadata": {},
   "outputs": [],
   "source": [
    "import numpy as np"
   ]
  },
  {
   "cell_type": "code",
   "execution_count": 17,
   "id": "748c7ac7",
   "metadata": {},
   "outputs": [],
   "source": [
    "def init_params(n_features, n_hidden_nodes):\n",
    "    \"\"\"\n",
    "    Initialize the parameters for a neural network with one hidden layer.\n",
    "\n",
    "    Args:\n",
    "        n_features (int): Number of input features.\n",
    "        n_hidden_nodes (int): Number of hidden nodes in the hidden layer.\n",
    "\n",
    "    Returns:\n",
    "        dict: A dictionary containing the initialized weights and biases.\n",
    "    \"\"\"\n",
    "\n",
    "    # Initialize weights and biases\n",
    "    W1 = np.random.randn(n_hidden_nodes, n_features) * 0.01  # Weights for input to hidden layer\n",
    "    b1 = np.zeros((n_hidden_nodes, 1))  # Biases for hidden layer\n",
    "    W2 = np.random.randn(1, n_hidden_nodes) * 0.01  # Weights for hidden to output layer\n",
    "    b2 = np.zeros((1, 1))  # Biases for output layer\n",
    "\n",
    "    return {\n",
    "        'W1': W1,\n",
    "        'b1': b1,\n",
    "        'W2': W2,\n",
    "        'b2': b2\n",
    "    }"
   ]
  },
  {
   "cell_type": "code",
   "execution_count": 18,
   "id": "95a303ed",
   "metadata": {},
   "outputs": [],
   "source": [
    "def sigmoid(z):\n",
    "    \"\"\"\n",
    "    Compute the sigmoid activation function.\n",
    "\n",
    "    Args:\n",
    "        z (np.ndarray): Input array.\n",
    "\n",
    "    Returns:\n",
    "        np.ndarray: Sigmoid of the input array.\n",
    "    \"\"\"\n",
    "    \n",
    "    return 1 / (1 + np.exp(-z))\n",
    "\n",
    "def forward_propagation(X, params):\n",
    "    \"\"\"\n",
    "    Perform forward propagation through the neural network.\n",
    "\n",
    "    Args:\n",
    "        X (np.ndarray): Input data of shape (n_samples, n_features).\n",
    "        params (dict): Dictionary containing the weights and biases.\n",
    "\n",
    "    Returns:\n",
    "        np.ndarray: Output of the neural network.\n",
    "    \"\"\"\n",
    "    \n",
    "    W1 = params['W1']\n",
    "    b1 = params['b1']\n",
    "    W2 = params['W2']\n",
    "    b2 = params['b2']\n",
    "    print(\"W1.shape:\", W1.shape)\n",
    "    # Hidden layer\n",
    "    Z1 = W1 @ X + b1\n",
    "    A1 = sigmoid(Z1)  # Activation function\n",
    "\n",
    "    # Output layer\n",
    "    Z2 = W2 @ A1 + b2\n",
    "    A2 = sigmoid(Z2)  # Linear activation for output layer\n",
    "\n",
    "    return A2\n",
    "\n",
    "def compute_loss(y_true, y_pred):\n",
    "    \"\"\"\n",
    "    Compute the mean squared error loss.\n",
    "\n",
    "    Args:\n",
    "        y_true (np.ndarray): True labels.\n",
    "        y_pred (np.ndarray): Predicted labels.\n",
    "\n",
    "    Returns:\n",
    "        float: Mean squared error loss.\n",
    "    \"\"\"\n",
    "    \n",
    "    m = y_true.shape[0]\n",
    "    loss = - (y_true * np.log(y_pred + 1e-8) + (1 - y_true) * np.log(1 - y_pred + 1e-8))\n",
    "    cost = np.sum(loss) / m\n",
    "    return cost\n",
    "\n",
    "def predict(X, params):\n",
    "    \"\"\"\n",
    "    Make predictions using the trained neural network.\n",
    "\n",
    "    Args:\n",
    "        X (np.ndarray): Input data of shape (n_samples, n_features).\n",
    "        params (dict): Dictionary containing the weights and biases.\n",
    "\n",
    "    Returns:\n",
    "        np.ndarray: Predicted labels.\n",
    "    \"\"\"\n",
    "    \n",
    "    A2 = forward_propagation(X, params)\n",
    "    predictions = (A2 > 0.5).astype(int)  # Convert probabilities to binary predictions\n",
    "    return predictions"
   ]
  },
  {
   "cell_type": "code",
   "execution_count": 55,
   "id": "64199600",
   "metadata": {},
   "outputs": [
    {
     "name": "stdout",
     "output_type": "stream",
     "text": [
      "X.shape: (2, 2)\n",
      "y.shape: (1, 2)\n"
     ]
    }
   ],
   "source": [
    "X = np.array([1, 2, 3, 4]).reshape(2, 2)  # Example input\n",
    "y = np.array([1, 0]).reshape(1, 2)  # Example output\n",
    "print(\"X.shape:\", X.shape)\n",
    "print(\"y.shape:\", y.shape)\n"
   ]
  },
  {
   "cell_type": "code",
   "execution_count": 56,
   "id": "453f9dec",
   "metadata": {},
   "outputs": [],
   "source": [
    "n_features = X.shape[0]\n",
    "n_hidden_nodes = 3\n",
    "m = X.shape[1]"
   ]
  },
  {
   "cell_type": "code",
   "execution_count": 60,
   "id": "0e57c115",
   "metadata": {},
   "outputs": [
    {
     "name": "stdout",
     "output_type": "stream",
     "text": [
      "params['W1'].shape: (3, 2)\n"
     ]
    }
   ],
   "source": [
    "params = init_params(n_features, n_hidden_nodes)  # Initialize parameters\n",
    "# Set params to fixed numbers for deterministic behavior\n",
    "params['W1'] = np.array([0.1, 0.2, 0.3, 0.4, 5.0, 6.0]).reshape(3, 2)\n",
    "params['b1'] = np.array([0.1, 0.2, 0.3]).reshape(3, 1)\n",
    "params['W2'] = np.array([[0.1, 0.2, 0.3]])\n",
    "params['b2'] = np.array([[0.1]])\n",
    "\n",
    "print(\"params['W1'].shape:\", params['W1'].shape)"
   ]
  },
  {
   "cell_type": "code",
   "execution_count": 61,
   "id": "5755fb65",
   "metadata": {},
   "outputs": [
    {
     "name": "stdout",
     "output_type": "stream",
     "text": [
      "W1.shape: (3, 2)\n",
      "Output activation: [[0.65432483 0.65889896]]\n"
     ]
    }
   ],
   "source": [
    "a2 = forward_propagation(X, params)  # Forward propagation\n",
    "print(\"Output activation:\", a2)"
   ]
  },
  {
   "cell_type": "code",
   "execution_count": 62,
   "id": "bc80348c",
   "metadata": {},
   "outputs": [
    {
     "name": "stdout",
     "output_type": "stream",
     "text": [
      "W1.shape: (3, 2)\n",
      "Predictions: [[1 1]]\n"
     ]
    }
   ],
   "source": [
    "predictions = predict(X, params)  # Make predictions\n",
    "print(\"Predictions:\", predictions)"
   ]
  },
  {
   "cell_type": "code",
   "execution_count": null,
   "id": "35ad9a91",
   "metadata": {},
   "outputs": [],
   "source": []
  }
 ],
 "metadata": {
  "kernelspec": {
   "display_name": ".venv",
   "language": "python",
   "name": "python3"
  },
  "language_info": {
   "codemirror_mode": {
    "name": "ipython",
    "version": 3
   },
   "file_extension": ".py",
   "mimetype": "text/x-python",
   "name": "python",
   "nbconvert_exporter": "python",
   "pygments_lexer": "ipython3",
   "version": "3.12.4"
  }
 },
 "nbformat": 4,
 "nbformat_minor": 5
}
